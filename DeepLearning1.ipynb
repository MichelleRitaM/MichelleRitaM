{
  "nbformat": 4,
  "nbformat_minor": 0,
  "metadata": {
    "colab": {
      "name": "DeepLearning1.ipynb",
      "provenance": [],
      "collapsed_sections": [],
      "authorship_tag": "ABX9TyP08SmlUyDEcsYKXHwCdigw",
      "include_colab_link": true
    },
    "kernelspec": {
      "name": "python3",
      "display_name": "Python 3"
    },
    "language_info": {
      "name": "python"
    }
  },
  "cells": [
    {
      "cell_type": "markdown",
      "metadata": {
        "id": "view-in-github",
        "colab_type": "text"
      },
      "source": [
        "<a href=\"https://colab.research.google.com/github/MichelleRitaM/MichelleRitaM/blob/main/DeepLearning1.ipynb\" target=\"_parent\"><img src=\"https://colab.research.google.com/assets/colab-badge.svg\" alt=\"Open In Colab\"/></a>"
      ]
    },
    {
      "cell_type": "code",
      "source": [
        "#Visualize your ANN\n",
        "!pip install ann_visualizer\n",
        "!pip install graphviz"
      ],
      "metadata": {
        "colab": {
          "base_uri": "https://localhost:8080/"
        },
        "id": "lWvpJqmegK8r",
        "outputId": "acce0589-4af7-4f67-92e5-991b36d0900a"
      },
      "execution_count": 88,
      "outputs": [
        {
          "output_type": "stream",
          "name": "stdout",
          "text": [
            "Looking in indexes: https://pypi.org/simple, https://us-python.pkg.dev/colab-wheels/public/simple/\n",
            "Requirement already satisfied: ann_visualizer in /usr/local/lib/python3.7/dist-packages (2.5)\n",
            "Looking in indexes: https://pypi.org/simple, https://us-python.pkg.dev/colab-wheels/public/simple/\n",
            "Requirement already satisfied: graphviz in /usr/local/lib/python3.7/dist-packages (0.10.1)\n"
          ]
        }
      ]
    },
    {
      "cell_type": "code",
      "execution_count": 89,
      "metadata": {
        "colab": {
          "base_uri": "https://localhost:8080/",
          "height": 488
        },
        "id": "EWpYc_blSth-",
        "outputId": "1f72d90d-b6a4-45b1-fde5-355b9f5e530f"
      },
      "outputs": [
        {
          "output_type": "execute_result",
          "data": {
            "text/plain": [
              "      RowNumber  CustomerId    Surname  CreditScore Geography  Gender  Age  \\\n",
              "0             1    15634602   Hargrave          619    France  Female   42   \n",
              "1             2    15647311       Hill          608     Spain  Female   41   \n",
              "2             3    15619304       Onio          502    France  Female   42   \n",
              "3             4    15701354       Boni          699    France  Female   39   \n",
              "4             5    15737888   Mitchell          850     Spain  Female   43   \n",
              "...         ...         ...        ...          ...       ...     ...  ...   \n",
              "9995       9996    15606229   Obijiaku          771    France    Male   39   \n",
              "9996       9997    15569892  Johnstone          516    France    Male   35   \n",
              "9997       9998    15584532        Liu          709    France  Female   36   \n",
              "9998       9999    15682355  Sabbatini          772   Germany    Male   42   \n",
              "9999      10000    15628319     Walker          792    France  Female   28   \n",
              "\n",
              "      Tenure    Balance  NumOfProducts  HasCrCard  IsActiveMember  \\\n",
              "0          2       0.00              1          1               1   \n",
              "1          1   83807.86              1          0               1   \n",
              "2          8  159660.80              3          1               0   \n",
              "3          1       0.00              2          0               0   \n",
              "4          2  125510.82              1          1               1   \n",
              "...      ...        ...            ...        ...             ...   \n",
              "9995       5       0.00              2          1               0   \n",
              "9996      10   57369.61              1          1               1   \n",
              "9997       7       0.00              1          0               1   \n",
              "9998       3   75075.31              2          1               0   \n",
              "9999       4  130142.79              1          1               0   \n",
              "\n",
              "      EstimatedSalary  Exited  \n",
              "0           101348.88       1  \n",
              "1           112542.58       0  \n",
              "2           113931.57       1  \n",
              "3            93826.63       0  \n",
              "4            79084.10       0  \n",
              "...               ...     ...  \n",
              "9995         96270.64       0  \n",
              "9996        101699.77       0  \n",
              "9997         42085.58       1  \n",
              "9998         92888.52       1  \n",
              "9999         38190.78       0  \n",
              "\n",
              "[10000 rows x 14 columns]"
            ],
            "text/html": [
              "\n",
              "  <div id=\"df-2943235b-bbba-41bc-ba57-59b7b027a08a\">\n",
              "    <div class=\"colab-df-container\">\n",
              "      <div>\n",
              "<style scoped>\n",
              "    .dataframe tbody tr th:only-of-type {\n",
              "        vertical-align: middle;\n",
              "    }\n",
              "\n",
              "    .dataframe tbody tr th {\n",
              "        vertical-align: top;\n",
              "    }\n",
              "\n",
              "    .dataframe thead th {\n",
              "        text-align: right;\n",
              "    }\n",
              "</style>\n",
              "<table border=\"1\" class=\"dataframe\">\n",
              "  <thead>\n",
              "    <tr style=\"text-align: right;\">\n",
              "      <th></th>\n",
              "      <th>RowNumber</th>\n",
              "      <th>CustomerId</th>\n",
              "      <th>Surname</th>\n",
              "      <th>CreditScore</th>\n",
              "      <th>Geography</th>\n",
              "      <th>Gender</th>\n",
              "      <th>Age</th>\n",
              "      <th>Tenure</th>\n",
              "      <th>Balance</th>\n",
              "      <th>NumOfProducts</th>\n",
              "      <th>HasCrCard</th>\n",
              "      <th>IsActiveMember</th>\n",
              "      <th>EstimatedSalary</th>\n",
              "      <th>Exited</th>\n",
              "    </tr>\n",
              "  </thead>\n",
              "  <tbody>\n",
              "    <tr>\n",
              "      <th>0</th>\n",
              "      <td>1</td>\n",
              "      <td>15634602</td>\n",
              "      <td>Hargrave</td>\n",
              "      <td>619</td>\n",
              "      <td>France</td>\n",
              "      <td>Female</td>\n",
              "      <td>42</td>\n",
              "      <td>2</td>\n",
              "      <td>0.00</td>\n",
              "      <td>1</td>\n",
              "      <td>1</td>\n",
              "      <td>1</td>\n",
              "      <td>101348.88</td>\n",
              "      <td>1</td>\n",
              "    </tr>\n",
              "    <tr>\n",
              "      <th>1</th>\n",
              "      <td>2</td>\n",
              "      <td>15647311</td>\n",
              "      <td>Hill</td>\n",
              "      <td>608</td>\n",
              "      <td>Spain</td>\n",
              "      <td>Female</td>\n",
              "      <td>41</td>\n",
              "      <td>1</td>\n",
              "      <td>83807.86</td>\n",
              "      <td>1</td>\n",
              "      <td>0</td>\n",
              "      <td>1</td>\n",
              "      <td>112542.58</td>\n",
              "      <td>0</td>\n",
              "    </tr>\n",
              "    <tr>\n",
              "      <th>2</th>\n",
              "      <td>3</td>\n",
              "      <td>15619304</td>\n",
              "      <td>Onio</td>\n",
              "      <td>502</td>\n",
              "      <td>France</td>\n",
              "      <td>Female</td>\n",
              "      <td>42</td>\n",
              "      <td>8</td>\n",
              "      <td>159660.80</td>\n",
              "      <td>3</td>\n",
              "      <td>1</td>\n",
              "      <td>0</td>\n",
              "      <td>113931.57</td>\n",
              "      <td>1</td>\n",
              "    </tr>\n",
              "    <tr>\n",
              "      <th>3</th>\n",
              "      <td>4</td>\n",
              "      <td>15701354</td>\n",
              "      <td>Boni</td>\n",
              "      <td>699</td>\n",
              "      <td>France</td>\n",
              "      <td>Female</td>\n",
              "      <td>39</td>\n",
              "      <td>1</td>\n",
              "      <td>0.00</td>\n",
              "      <td>2</td>\n",
              "      <td>0</td>\n",
              "      <td>0</td>\n",
              "      <td>93826.63</td>\n",
              "      <td>0</td>\n",
              "    </tr>\n",
              "    <tr>\n",
              "      <th>4</th>\n",
              "      <td>5</td>\n",
              "      <td>15737888</td>\n",
              "      <td>Mitchell</td>\n",
              "      <td>850</td>\n",
              "      <td>Spain</td>\n",
              "      <td>Female</td>\n",
              "      <td>43</td>\n",
              "      <td>2</td>\n",
              "      <td>125510.82</td>\n",
              "      <td>1</td>\n",
              "      <td>1</td>\n",
              "      <td>1</td>\n",
              "      <td>79084.10</td>\n",
              "      <td>0</td>\n",
              "    </tr>\n",
              "    <tr>\n",
              "      <th>...</th>\n",
              "      <td>...</td>\n",
              "      <td>...</td>\n",
              "      <td>...</td>\n",
              "      <td>...</td>\n",
              "      <td>...</td>\n",
              "      <td>...</td>\n",
              "      <td>...</td>\n",
              "      <td>...</td>\n",
              "      <td>...</td>\n",
              "      <td>...</td>\n",
              "      <td>...</td>\n",
              "      <td>...</td>\n",
              "      <td>...</td>\n",
              "      <td>...</td>\n",
              "    </tr>\n",
              "    <tr>\n",
              "      <th>9995</th>\n",
              "      <td>9996</td>\n",
              "      <td>15606229</td>\n",
              "      <td>Obijiaku</td>\n",
              "      <td>771</td>\n",
              "      <td>France</td>\n",
              "      <td>Male</td>\n",
              "      <td>39</td>\n",
              "      <td>5</td>\n",
              "      <td>0.00</td>\n",
              "      <td>2</td>\n",
              "      <td>1</td>\n",
              "      <td>0</td>\n",
              "      <td>96270.64</td>\n",
              "      <td>0</td>\n",
              "    </tr>\n",
              "    <tr>\n",
              "      <th>9996</th>\n",
              "      <td>9997</td>\n",
              "      <td>15569892</td>\n",
              "      <td>Johnstone</td>\n",
              "      <td>516</td>\n",
              "      <td>France</td>\n",
              "      <td>Male</td>\n",
              "      <td>35</td>\n",
              "      <td>10</td>\n",
              "      <td>57369.61</td>\n",
              "      <td>1</td>\n",
              "      <td>1</td>\n",
              "      <td>1</td>\n",
              "      <td>101699.77</td>\n",
              "      <td>0</td>\n",
              "    </tr>\n",
              "    <tr>\n",
              "      <th>9997</th>\n",
              "      <td>9998</td>\n",
              "      <td>15584532</td>\n",
              "      <td>Liu</td>\n",
              "      <td>709</td>\n",
              "      <td>France</td>\n",
              "      <td>Female</td>\n",
              "      <td>36</td>\n",
              "      <td>7</td>\n",
              "      <td>0.00</td>\n",
              "      <td>1</td>\n",
              "      <td>0</td>\n",
              "      <td>1</td>\n",
              "      <td>42085.58</td>\n",
              "      <td>1</td>\n",
              "    </tr>\n",
              "    <tr>\n",
              "      <th>9998</th>\n",
              "      <td>9999</td>\n",
              "      <td>15682355</td>\n",
              "      <td>Sabbatini</td>\n",
              "      <td>772</td>\n",
              "      <td>Germany</td>\n",
              "      <td>Male</td>\n",
              "      <td>42</td>\n",
              "      <td>3</td>\n",
              "      <td>75075.31</td>\n",
              "      <td>2</td>\n",
              "      <td>1</td>\n",
              "      <td>0</td>\n",
              "      <td>92888.52</td>\n",
              "      <td>1</td>\n",
              "    </tr>\n",
              "    <tr>\n",
              "      <th>9999</th>\n",
              "      <td>10000</td>\n",
              "      <td>15628319</td>\n",
              "      <td>Walker</td>\n",
              "      <td>792</td>\n",
              "      <td>France</td>\n",
              "      <td>Female</td>\n",
              "      <td>28</td>\n",
              "      <td>4</td>\n",
              "      <td>130142.79</td>\n",
              "      <td>1</td>\n",
              "      <td>1</td>\n",
              "      <td>0</td>\n",
              "      <td>38190.78</td>\n",
              "      <td>0</td>\n",
              "    </tr>\n",
              "  </tbody>\n",
              "</table>\n",
              "<p>10000 rows × 14 columns</p>\n",
              "</div>\n",
              "      <button class=\"colab-df-convert\" onclick=\"convertToInteractive('df-2943235b-bbba-41bc-ba57-59b7b027a08a')\"\n",
              "              title=\"Convert this dataframe to an interactive table.\"\n",
              "              style=\"display:none;\">\n",
              "        \n",
              "  <svg xmlns=\"http://www.w3.org/2000/svg\" height=\"24px\"viewBox=\"0 0 24 24\"\n",
              "       width=\"24px\">\n",
              "    <path d=\"M0 0h24v24H0V0z\" fill=\"none\"/>\n",
              "    <path d=\"M18.56 5.44l.94 2.06.94-2.06 2.06-.94-2.06-.94-.94-2.06-.94 2.06-2.06.94zm-11 1L8.5 8.5l.94-2.06 2.06-.94-2.06-.94L8.5 2.5l-.94 2.06-2.06.94zm10 10l.94 2.06.94-2.06 2.06-.94-2.06-.94-.94-2.06-.94 2.06-2.06.94z\"/><path d=\"M17.41 7.96l-1.37-1.37c-.4-.4-.92-.59-1.43-.59-.52 0-1.04.2-1.43.59L10.3 9.45l-7.72 7.72c-.78.78-.78 2.05 0 2.83L4 21.41c.39.39.9.59 1.41.59.51 0 1.02-.2 1.41-.59l7.78-7.78 2.81-2.81c.8-.78.8-2.07 0-2.86zM5.41 20L4 18.59l7.72-7.72 1.47 1.35L5.41 20z\"/>\n",
              "  </svg>\n",
              "      </button>\n",
              "      \n",
              "  <style>\n",
              "    .colab-df-container {\n",
              "      display:flex;\n",
              "      flex-wrap:wrap;\n",
              "      gap: 12px;\n",
              "    }\n",
              "\n",
              "    .colab-df-convert {\n",
              "      background-color: #E8F0FE;\n",
              "      border: none;\n",
              "      border-radius: 50%;\n",
              "      cursor: pointer;\n",
              "      display: none;\n",
              "      fill: #1967D2;\n",
              "      height: 32px;\n",
              "      padding: 0 0 0 0;\n",
              "      width: 32px;\n",
              "    }\n",
              "\n",
              "    .colab-df-convert:hover {\n",
              "      background-color: #E2EBFA;\n",
              "      box-shadow: 0px 1px 2px rgba(60, 64, 67, 0.3), 0px 1px 3px 1px rgba(60, 64, 67, 0.15);\n",
              "      fill: #174EA6;\n",
              "    }\n",
              "\n",
              "    [theme=dark] .colab-df-convert {\n",
              "      background-color: #3B4455;\n",
              "      fill: #D2E3FC;\n",
              "    }\n",
              "\n",
              "    [theme=dark] .colab-df-convert:hover {\n",
              "      background-color: #434B5C;\n",
              "      box-shadow: 0px 1px 3px 1px rgba(0, 0, 0, 0.15);\n",
              "      filter: drop-shadow(0px 1px 2px rgba(0, 0, 0, 0.3));\n",
              "      fill: #FFFFFF;\n",
              "    }\n",
              "  </style>\n",
              "\n",
              "      <script>\n",
              "        const buttonEl =\n",
              "          document.querySelector('#df-2943235b-bbba-41bc-ba57-59b7b027a08a button.colab-df-convert');\n",
              "        buttonEl.style.display =\n",
              "          google.colab.kernel.accessAllowed ? 'block' : 'none';\n",
              "\n",
              "        async function convertToInteractive(key) {\n",
              "          const element = document.querySelector('#df-2943235b-bbba-41bc-ba57-59b7b027a08a');\n",
              "          const dataTable =\n",
              "            await google.colab.kernel.invokeFunction('convertToInteractive',\n",
              "                                                     [key], {});\n",
              "          if (!dataTable) return;\n",
              "\n",
              "          const docLinkHtml = 'Like what you see? Visit the ' +\n",
              "            '<a target=\"_blank\" href=https://colab.research.google.com/notebooks/data_table.ipynb>data table notebook</a>'\n",
              "            + ' to learn more about interactive tables.';\n",
              "          element.innerHTML = '';\n",
              "          dataTable['output_type'] = 'display_data';\n",
              "          await google.colab.output.renderOutput(dataTable, element);\n",
              "          const docLink = document.createElement('div');\n",
              "          docLink.innerHTML = docLinkHtml;\n",
              "          element.appendChild(docLink);\n",
              "        }\n",
              "      </script>\n",
              "    </div>\n",
              "  </div>\n",
              "  "
            ]
          },
          "metadata": {},
          "execution_count": 89
        }
      ],
      "source": [
        "import pandas\n",
        "dataset = pandas.read_csv(\"http://modcom.co.ke/datasets/Churn_Modelling.csv\")\n",
        "dataset"
      ]
    },
    {
      "cell_type": "code",
      "source": [
        "# Encode gender\n",
        "dataset['Geography'].replace({'Spain':0,'France':1,'Germany':2}, inplace=True)\n",
        "dataset['Gender'].replace({'Male':0,'Female':1}, inplace=True)"
      ],
      "metadata": {
        "id": "CYPvr-AVUO45"
      },
      "execution_count": 90,
      "outputs": []
    },
    {
      "cell_type": "code",
      "source": [
        "#Check for empties\n",
        "dataset.isnull().sum()"
      ],
      "metadata": {
        "colab": {
          "base_uri": "https://localhost:8080/"
        },
        "id": "lhPxGuGfVp0N",
        "outputId": "5fcda123-a0bb-422b-eb50-6d484be01708"
      },
      "execution_count": 91,
      "outputs": [
        {
          "output_type": "execute_result",
          "data": {
            "text/plain": [
              "RowNumber          0\n",
              "CustomerId         0\n",
              "Surname            0\n",
              "CreditScore        0\n",
              "Geography          0\n",
              "Gender             0\n",
              "Age                0\n",
              "Tenure             0\n",
              "Balance            0\n",
              "NumOfProducts      0\n",
              "HasCrCard          0\n",
              "IsActiveMember     0\n",
              "EstimatedSalary    0\n",
              "Exited             0\n",
              "dtype: int64"
            ]
          },
          "metadata": {},
          "execution_count": 91
        }
      ]
    },
    {
      "cell_type": "code",
      "source": [
        "#split X,Y\n",
        "array = dataset.values\n",
        "X = array[:, 3:13]\n",
        "Y = array[:, 13]\n",
        "Y = Y.astype('int')"
      ],
      "metadata": {
        "id": "6ybN9dy4Wulb"
      },
      "execution_count": 92,
      "outputs": []
    },
    {
      "cell_type": "code",
      "source": [
        "#split your data to training 70%, Testing 30%\n",
        "from sklearn import model_selection\n",
        "X_train, X_test, Y_train, Y_test = model_selection.train_test_split(X, Y,\n",
        "                                                                    test_size=0.30,\n",
        "                                                                    random_state=42)\n"
      ],
      "metadata": {
        "id": "Yd01b71iXrno"
      },
      "execution_count": 93,
      "outputs": []
    },
    {
      "cell_type": "code",
      "source": [
        "#Standardise the X_train\n",
        "from sklearn.preprocessing import StandardScaler\n",
        "scaler = StandardScaler()\n",
        "X_train = scaler.fit_transform(X_train)\n",
        "X_test= scaler.fit_transform(X_test)\n"
      ],
      "metadata": {
        "id": "srokJxsGoOoU"
      },
      "execution_count": 94,
      "outputs": []
    },
    {
      "cell_type": "code",
      "source": [
        "#Deep Learning/ANN(Artificial Neural Networks)\n",
        "from keras.models import Sequential\n",
        "from keras.layers import Dense\n",
        "model = Sequential()\n",
        "#input Layer with 4 Neurons, activate with relu\n",
        "model.add(Dense(4,input_dim=10, activation=\"relu\"))\n",
        "\n",
        "#hidden layer with 6 neurons, activate with relu\n",
        "model.add(Dense(6, activation=\"relu\"))\n",
        "\n",
        "#hidden layer with 12 neurons, activate with sigmoid\n",
        "#model.add(Dense(12, activation=\"sigmoid\"))\n",
        "#Output layer with 1 neuron, activate with softmax\n",
        "model.add(Dense(1, activation=\"sigmoid\"))"
      ],
      "metadata": {
        "id": "JLf-WrU_Yn9M"
      },
      "execution_count": 95,
      "outputs": []
    },
    {
      "cell_type": "code",
      "source": [
        "#Visualize your ANN\n",
        "from ann_visualizer.visualize import ann_viz\n",
        "ann_viz(model, view=True,title='My Churn ANN', filename=\"Graph1.gv\")"
      ],
      "metadata": {
        "id": "5avAKCWIf3d4"
      },
      "execution_count": 96,
      "outputs": []
    },
    {
      "cell_type": "code",
      "source": [
        "#compile the model\n",
        "model.compile(loss =\"binary_crossentropy\", optimizer= \"adam\",\n",
        "              metrics =['accuracy'])\n",
        "#activation functions\n",
        "# Loss Functions\n",
        "# Optimizers"
      ],
      "metadata": {
        "id": "iC5qneWjioIs"
      },
      "execution_count": 97,
      "outputs": []
    },
    {
      "cell_type": "code",
      "source": [
        "#epoch - is the number of times/cycle a neural network runs with complete data\n",
        "#batch_size = teh number of batches per 1 cycle 16,32,64,128\n",
        "model.fit(X_train, Y_train, epochs=50, batch_size=32)\n",
        "#At this step there is a cross validation"
      ],
      "metadata": {
        "colab": {
          "base_uri": "https://localhost:8080/"
        },
        "id": "yP6JBATBk2G0",
        "outputId": "77173fe2-53f7-441b-f3f1-62fb5c7ba3bc"
      },
      "execution_count": 99,
      "outputs": [
        {
          "output_type": "stream",
          "name": "stdout",
          "text": [
            "Epoch 1/50\n",
            "219/219 [==============================] - 1s 3ms/step - loss: 0.3401 - accuracy: 0.8593\n",
            "Epoch 2/50\n",
            "219/219 [==============================] - 0s 2ms/step - loss: 0.3399 - accuracy: 0.8619\n",
            "Epoch 3/50\n",
            "219/219 [==============================] - 0s 2ms/step - loss: 0.3398 - accuracy: 0.8606\n",
            "Epoch 4/50\n",
            "219/219 [==============================] - 0s 2ms/step - loss: 0.3402 - accuracy: 0.8616\n",
            "Epoch 5/50\n",
            "219/219 [==============================] - 0s 2ms/step - loss: 0.3399 - accuracy: 0.8619\n",
            "Epoch 6/50\n",
            "219/219 [==============================] - 0s 2ms/step - loss: 0.3398 - accuracy: 0.8616\n",
            "Epoch 7/50\n",
            "219/219 [==============================] - 0s 2ms/step - loss: 0.3400 - accuracy: 0.8611\n",
            "Epoch 8/50\n",
            "219/219 [==============================] - 0s 2ms/step - loss: 0.3399 - accuracy: 0.8620\n",
            "Epoch 9/50\n",
            "219/219 [==============================] - 0s 2ms/step - loss: 0.3396 - accuracy: 0.8604\n",
            "Epoch 10/50\n",
            "219/219 [==============================] - 0s 2ms/step - loss: 0.3403 - accuracy: 0.8614\n",
            "Epoch 11/50\n",
            "219/219 [==============================] - 0s 2ms/step - loss: 0.3397 - accuracy: 0.8606\n",
            "Epoch 12/50\n",
            "219/219 [==============================] - 0s 2ms/step - loss: 0.3401 - accuracy: 0.8619\n",
            "Epoch 13/50\n",
            "219/219 [==============================] - 0s 2ms/step - loss: 0.3400 - accuracy: 0.8613\n",
            "Epoch 14/50\n",
            "219/219 [==============================] - 0s 2ms/step - loss: 0.3403 - accuracy: 0.8613\n",
            "Epoch 15/50\n",
            "219/219 [==============================] - 0s 2ms/step - loss: 0.3400 - accuracy: 0.8606\n",
            "Epoch 16/50\n",
            "219/219 [==============================] - 0s 2ms/step - loss: 0.3402 - accuracy: 0.8616\n",
            "Epoch 17/50\n",
            "219/219 [==============================] - 0s 2ms/step - loss: 0.3398 - accuracy: 0.8607\n",
            "Epoch 18/50\n",
            "219/219 [==============================] - 0s 2ms/step - loss: 0.3400 - accuracy: 0.8610\n",
            "Epoch 19/50\n",
            "219/219 [==============================] - 0s 2ms/step - loss: 0.3397 - accuracy: 0.8611\n",
            "Epoch 20/50\n",
            "219/219 [==============================] - 0s 2ms/step - loss: 0.3400 - accuracy: 0.8619\n",
            "Epoch 21/50\n",
            "219/219 [==============================] - 0s 2ms/step - loss: 0.3401 - accuracy: 0.8609\n",
            "Epoch 22/50\n",
            "219/219 [==============================] - 0s 2ms/step - loss: 0.3398 - accuracy: 0.8619\n",
            "Epoch 23/50\n",
            "219/219 [==============================] - 0s 2ms/step - loss: 0.3398 - accuracy: 0.8604\n",
            "Epoch 24/50\n",
            "219/219 [==============================] - 0s 2ms/step - loss: 0.3401 - accuracy: 0.8614\n",
            "Epoch 25/50\n",
            "219/219 [==============================] - 0s 2ms/step - loss: 0.3396 - accuracy: 0.8614\n",
            "Epoch 26/50\n",
            "219/219 [==============================] - 0s 2ms/step - loss: 0.3399 - accuracy: 0.8619\n",
            "Epoch 27/50\n",
            "219/219 [==============================] - 0s 2ms/step - loss: 0.3399 - accuracy: 0.8613\n",
            "Epoch 28/50\n",
            "219/219 [==============================] - 0s 2ms/step - loss: 0.3398 - accuracy: 0.8616\n",
            "Epoch 29/50\n",
            "219/219 [==============================] - 0s 2ms/step - loss: 0.3398 - accuracy: 0.8614\n",
            "Epoch 30/50\n",
            "219/219 [==============================] - 0s 2ms/step - loss: 0.3399 - accuracy: 0.8620\n",
            "Epoch 31/50\n",
            "219/219 [==============================] - 0s 2ms/step - loss: 0.3402 - accuracy: 0.8593\n",
            "Epoch 32/50\n",
            "219/219 [==============================] - 0s 2ms/step - loss: 0.3396 - accuracy: 0.8619\n",
            "Epoch 33/50\n",
            "219/219 [==============================] - 0s 2ms/step - loss: 0.3401 - accuracy: 0.8621\n",
            "Epoch 34/50\n",
            "219/219 [==============================] - 0s 2ms/step - loss: 0.3402 - accuracy: 0.8616\n",
            "Epoch 35/50\n",
            "219/219 [==============================] - 0s 2ms/step - loss: 0.3397 - accuracy: 0.8600\n",
            "Epoch 36/50\n",
            "219/219 [==============================] - 0s 2ms/step - loss: 0.3400 - accuracy: 0.8616\n",
            "Epoch 37/50\n",
            "219/219 [==============================] - 0s 2ms/step - loss: 0.3395 - accuracy: 0.8611\n",
            "Epoch 38/50\n",
            "219/219 [==============================] - 0s 2ms/step - loss: 0.3398 - accuracy: 0.8614\n",
            "Epoch 39/50\n",
            "219/219 [==============================] - 0s 2ms/step - loss: 0.3396 - accuracy: 0.8609\n",
            "Epoch 40/50\n",
            "219/219 [==============================] - 0s 2ms/step - loss: 0.3399 - accuracy: 0.8616\n",
            "Epoch 41/50\n",
            "219/219 [==============================] - 0s 2ms/step - loss: 0.3399 - accuracy: 0.8619\n",
            "Epoch 42/50\n",
            "219/219 [==============================] - 0s 2ms/step - loss: 0.3399 - accuracy: 0.8609\n",
            "Epoch 43/50\n",
            "219/219 [==============================] - 0s 2ms/step - loss: 0.3400 - accuracy: 0.8631\n",
            "Epoch 44/50\n",
            "219/219 [==============================] - 0s 2ms/step - loss: 0.3399 - accuracy: 0.8613\n",
            "Epoch 45/50\n",
            "219/219 [==============================] - 0s 2ms/step - loss: 0.3399 - accuracy: 0.8607\n",
            "Epoch 46/50\n",
            "219/219 [==============================] - 0s 2ms/step - loss: 0.3398 - accuracy: 0.8604\n",
            "Epoch 47/50\n",
            "219/219 [==============================] - 0s 2ms/step - loss: 0.3398 - accuracy: 0.8621\n",
            "Epoch 48/50\n",
            "219/219 [==============================] - 0s 2ms/step - loss: 0.3400 - accuracy: 0.8617\n",
            "Epoch 49/50\n",
            "219/219 [==============================] - 0s 2ms/step - loss: 0.3398 - accuracy: 0.8611\n",
            "Epoch 50/50\n",
            "219/219 [==============================] - 0s 2ms/step - loss: 0.3399 - accuracy: 0.8604\n"
          ]
        },
        {
          "output_type": "execute_result",
          "data": {
            "text/plain": [
              "<keras.callbacks.History at 0x7feccd638590>"
            ]
          },
          "metadata": {},
          "execution_count": 99
        }
      ]
    },
    {
      "cell_type": "code",
      "source": [
        "score = model.evaluate(X_test,Y_test)\n",
        "print(\"Score\", score)"
      ],
      "metadata": {
        "colab": {
          "base_uri": "https://localhost:8080/"
        },
        "id": "wsv34m27sbNr",
        "outputId": "c15e4ad1-31ec-46f1-ca02-31e5064b323a"
      },
      "execution_count": 100,
      "outputs": [
        {
          "output_type": "stream",
          "name": "stdout",
          "text": [
            "94/94 [==============================] - 0s 2ms/step - loss: 0.3326 - accuracy: 0.8667\n",
            "Score [0.3325834572315216, 0.8666666746139526]\n"
          ]
        }
      ]
    },
    {
      "cell_type": "code",
      "source": [
        "customer = [[619, 2, 0, 42, 2, 0.00, 1, 1, 1, 101348.88]]\n",
        "predictions = (model.predict(customer) > 0.5).astype(int)\n",
        "predictions"
      ],
      "metadata": {
        "colab": {
          "base_uri": "https://localhost:8080/"
        },
        "id": "CnTgbZo7tKka",
        "outputId": "dc2d445b-14c6-4e08-c482-bd3d3491fc02"
      },
      "execution_count": 106,
      "outputs": [
        {
          "output_type": "execute_result",
          "data": {
            "text/plain": [
              "array([[0]])"
            ]
          },
          "metadata": {},
          "execution_count": 106
        }
      ]
    }
  ]
}